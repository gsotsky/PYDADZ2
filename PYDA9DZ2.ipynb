{
 "cells": [
  {
   "cell_type": "markdown",
   "metadata": {},
   "source": [
    "<h1>Домашнее задание к лекции «Основы Python»</h1>\n",
    "<h2>Преподаватель: Олег Булыгин</h2>\n",
    "<h3>Студент: Григорий Сотский</h3>\n",
    "<i>17.04.2020</i>  "
   ]
  },
  {
   "cell_type": "markdown",
   "metadata": {},
   "source": [
    "<h3>Задание 1.</h3>\n",
    "<p>Даны 2 строки: long_phrase и short_phrase. <br>Напишите код, который проверяет действительно ли длинная фраза <b>long_phrase</b> длиннее короткой <b>short_phrase</b>.<br> И выводит <font color=green>True</font> или <font color=red>False</font> в зависимости от результата сравнения.</p><hr>"
   ]
  },
  {
   "cell_type": "code",
   "execution_count": 1,
   "metadata": {},
   "outputs": [],
   "source": [
    "long_phrase = 'Насколько проще было бы писать программы, если бы не заказчики'\n",
    "short_phrase = '640Кб должно хватить для любых задач. Билл Гейтс (по легенде)'"
   ]
  },
  {
   "cell_type": "code",
   "execution_count": 2,
   "metadata": {},
   "outputs": [
    {
     "data": {
      "text/plain": [
       "True"
      ]
     },
     "execution_count": 2,
     "metadata": {},
     "output_type": "execute_result"
    }
   ],
   "source": [
    "len(long_phrase) > len(short_phrase) #В простом варианте просто сравниваем длину 2 строк. Получает True"
   ]
  },
  {
   "cell_type": "markdown",
   "metadata": {},
   "source": [
    "Добавляем оператор сравнения и f-стринг"
   ]
  },
  {
   "cell_type": "code",
   "execution_count": 3,
   "metadata": {},
   "outputs": [
    {
     "name": "stdout",
     "output_type": "stream",
     "text": [
      "Действительно, фраза long_phrase состоит из 62 символов, и длинее фразы short_phrase из 61 символов\n"
     ]
    }
   ],
   "source": [
    "if len(long_phrase) > len(short_phrase):\n",
    "    print(f'Действительно, фраза long_phrase состоит из {len(long_phrase)} символов, и длинее фразы short_phrase из {len(short_phrase)} символов')\n",
    "else:\n",
    "    print(f'Нет, фраза long_phrase {len(long_phrase)} не длинее фразы short_phrase {len(short_phrase)}')"
   ]
  },
  {
   "cell_type": "markdown",
   "metadata": {},
   "source": [
    "<h4>Конец Задания 1.</h4>\n",
    "<hr/>"
   ]
  },
  {
   "cell_type": "markdown",
   "metadata": {},
   "source": [
    "<h3>Задание 2.</h3> \n",
    "<p>Дано значение объема файла в байтах (в мегабайте 2^20 байт). <br>Напишите перевод этого значения в мегабайты в формате: \"Объем файла равен 213.68Mb\"</p><hr>"
   ]
  },
  {
   "cell_type": "code",
   "execution_count": 4,
   "metadata": {},
   "outputs": [
    {
     "name": "stdout",
     "output_type": "stream",
     "text": [
      "Введите размер файла в байтах:\n",
      "6000000\n"
     ]
    }
   ],
   "source": [
    "print('Введите размер файла в байтах:')\n",
    "x = int(input())"
   ]
  },
  {
   "cell_type": "code",
   "execution_count": 5,
   "metadata": {},
   "outputs": [
    {
     "name": "stdout",
     "output_type": "stream",
     "text": [
      "Объем файла равен 5.7220458984375 Mb\n"
     ]
    }
   ],
   "source": [
    "print(f'Объем файла равен {x/(2**20)} Mb')"
   ]
  },
  {
   "cell_type": "markdown",
   "metadata": {},
   "source": [
    "<h4>Конец Задания 2.</h4>\n",
    "<hr/>"
   ]
  },
  {
   "cell_type": "markdown",
   "metadata": {},
   "source": [
    "<h3>Задание 3. </h3>\n",
    "<p>Разработать приложение для определения знака зодиака по дате рождения. Пример:<br>\n",
    "Введите месяц: март<br>\n",
    "Введите число: 6<br>\n",
    "Вывод: Рыбы</p>"
   ]
  },
  {
   "cell_type": "code",
   "execution_count": 6,
   "metadata": {},
   "outputs": [
    {
     "name": "stdout",
     "output_type": "stream",
     "text": [
      "Введите месяц:\n",
      "март\n"
     ]
    }
   ],
   "source": [
    "print('Введите месяц:')\n",
    "m = str(input())"
   ]
  },
  {
   "cell_type": "code",
   "execution_count": 7,
   "metadata": {},
   "outputs": [
    {
     "name": "stdout",
     "output_type": "stream",
     "text": [
      "Введите день:\n",
      "29\n"
     ]
    }
   ],
   "source": [
    "print('Введите день:')\n",
    "d = int(input())"
   ]
  },
  {
   "cell_type": "code",
   "execution_count": 8,
   "metadata": {},
   "outputs": [
    {
     "name": "stdout",
     "output_type": "stream",
     "text": [
      "Ваш знак зодиака - Овен\n"
     ]
    }
   ],
   "source": [
    "if (m==\"март\" and 22 <= d <=31) or (m==\"апрель\" and 1 <= d <=21):\n",
    "    print('Ваш знак зодиака - Овен')\n",
    "elif (m==\"апрель\" and 22 <= d <=30) or (m==\"май\" and 1 <= d <=31):\n",
    "    print('Ваш знак зодиака - Телец')\n",
    "else:\n",
    "    print('Вы ввели данные не в верном формате, или Вашего знака нет в гороскопе')"
   ]
  },
  {
   "cell_type": "markdown",
   "metadata": {},
   "source": [
    "<p><i>Остальные знаки по аналогии</i></p>\n",
    "-----------------------\n",
    "<h4>Конец Задания 3.</h4><hr>\n"
   ]
  },
  {
   "cell_type": "markdown",
   "metadata": {},
   "source": [
    "\n",
    "<h3>Задание 4.</h3>\n",
    "<p>Нужно разработать приложение для финансового планирования. <br>\n",
    "Приложение учитывает сколько уходит на ипотеку, \"на жизнь\" и сколько нужно отложить на пенсию. Пользователь вводит:<br>\n",
    "\n",
    "заработанную плату в месяц.<br>\n",
    "сколько процентов от ЗП уходит на ипотеку.<br>\n",
    "сколько процентов от ЗП уходит \"на жизнь\".<br>\n",
    "сколько раз приходит премия в год.<br>\n",
    "Остальная часть заработанной платы откладывается на пенсию.<br>\n",
    "\n",
    "Также пользователю приходит премия в размере зарплаты, от которой половина уходит на отпуск, а вторая половина откладывается.<br>\n",
    "\n",
    "Программа должна учитывать сколько премий было в год.<br>\n",
    "\n",
    "Нужно вывести сколько денег тратит пользователь на ипотеку и сколько он накопит за год.<br>\n",
    "\n",
    "Пример:<br>\n",
    "\n",
    "Введите заработанную плату в месяц: 100000<br>\n",
    "\n",
    "Введите сколько процентов уходит на ипотеку: 30<br>\n",
    "\n",
    "Введите сколько процентов уходит на жизнь: 50<br>\n",
    "\n",
    "Введите количество премий за год: 2<br>\n",
    "\n",
    "Вывод: На ипотеку было потрачено: 360000 рублей Было накоплено: 340000 рублей</p>"
   ]
  },
  {
   "cell_type": "code",
   "execution_count": 9,
   "metadata": {},
   "outputs": [
    {
     "name": "stdout",
     "output_type": "stream",
     "text": [
      "Введите заработанную плату в месяц:\n",
      "180000\n"
     ]
    }
   ],
   "source": [
    "print('Введите заработанную плату в месяц:')\n",
    "salary = int(input())"
   ]
  },
  {
   "cell_type": "code",
   "execution_count": 10,
   "metadata": {},
   "outputs": [
    {
     "name": "stdout",
     "output_type": "stream",
     "text": [
      "Введите сколько процентов уходит на ипотеку:\n",
      "20\n"
     ]
    }
   ],
   "source": [
    "print('Введите сколько процентов уходит на ипотеку:')\n",
    "p_ipoteka = int(input())"
   ]
  },
  {
   "cell_type": "code",
   "execution_count": 11,
   "metadata": {},
   "outputs": [
    {
     "name": "stdout",
     "output_type": "stream",
     "text": [
      "Введите сколько процентов уходит на жизнь:\n",
      "30\n"
     ]
    }
   ],
   "source": [
    "print('Введите сколько процентов уходит на жизнь:')\n",
    "p_life = int(input())"
   ]
  },
  {
   "cell_type": "code",
   "execution_count": 12,
   "metadata": {},
   "outputs": [
    {
     "name": "stdout",
     "output_type": "stream",
     "text": [
      "Введите количество премий (в размере 1 ЗП) за год:\n",
      "2\n"
     ]
    }
   ],
   "source": [
    "print('Введите количество премий (в размере 1 ЗП) за год:')\n",
    "bonus = int(input())"
   ]
  },
  {
   "cell_type": "code",
   "execution_count": 13,
   "metadata": {},
   "outputs": [
    {
     "name": "stdout",
     "output_type": "stream",
     "text": [
      "На ипотеку было потрачено: 432000.0 Было накоплено: 1260000.0\n"
     ]
    }
   ],
   "source": [
    "print(f'На ипотеку было потрачено: {salary*p_ipoteka/100*12} Было накоплено: {(100-p_ipoteka-p_life)/100*salary*12+bonus*salary/2}')"
   ]
  },
  {
   "cell_type": "markdown",
   "metadata": {},
   "source": [
    "<h4>Конец задания 4</h4>\n",
    "<h3>Конец домашнего задания</h3>"
   ]
  }
 ],
 "metadata": {
  "kernelspec": {
   "display_name": "Python 3",
   "language": "python",
   "name": "python3"
  },
  "language_info": {
   "codemirror_mode": {
    "name": "ipython",
    "version": 3
   },
   "file_extension": ".py",
   "mimetype": "text/x-python",
   "name": "python",
   "nbconvert_exporter": "python",
   "pygments_lexer": "ipython3",
   "version": "3.7.6"
  }
 },
 "nbformat": 4,
 "nbformat_minor": 4
}
