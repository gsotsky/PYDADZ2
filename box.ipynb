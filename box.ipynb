{
 "cells": [
  {
   "cell_type": "markdown",
   "metadata": {},
   "source": [
    "Упражнение\n",
    "Необходим скрипт для подбора упаковок по размерам товара. Используйте следующие правила:\n",
    "\n",
    "если ширина, длина и высота менее 15 сантиметров, то выведите на экран \"Коробка №1\"\n",
    "если хотя бы один из габаритов больше 15см, но менее 50см, то выводите \"Коробка №2\"\n",
    "если длина товара больше 2 метров, то вывести \"ищите упаковку для лыж\"\n",
    "во всех остальных случаях пишите \"Стандартная коробка №3\""
   ]
  },
  {
   "cell_type": "code",
   "execution_count": 8,
   "metadata": {},
   "outputs": [
    {
     "name": "stdout",
     "output_type": "stream",
     "text": [
      "Введите длину:\n",
      "210\n",
      "Введите ширину:\n",
      "20\n",
      "Введите высоту:\n",
      "20\n",
      "ищите упаковку для лыж\n"
     ]
    }
   ],
   "source": [
    "print('Введите длину:')\n",
    "length = int(input())\n",
    "\n",
    "print('Введите ширину:')\n",
    "width = int(input())\n",
    "\n",
    "print('Введите высоту:')\n",
    "height = int(input())\n",
    "\n",
    "if (length > 200): #Длину проверяем в начале. Если длина товара больше 2 метров, то вывести \"ищите упаковку для лыж\"\n",
    "    print (\"ищите упаковку для лыж\")\n",
    "elif width < 15 and length < 15 and height < 15: #если ширина, длина и высота менее 15 см, то выводим \"Коробка №1\"\n",
    "    print (\"Коробка №1\")\n",
    "elif 15 < width < 50 or 15 < length < 50 or 15 < height < 50: #если хотя бы один из габаритов > 15см, но < 50см, то \"Коробка №2\"\n",
    "    print(\"Коробка №2\")\n",
    "else:\n",
    "    print(\"Стандартная коробка №3\") #во всех остальных случаях - \"Стандартная коробка №3\""
   ]
  },
  {
   "cell_type": "code",
   "execution_count": null,
   "metadata": {},
   "outputs": [],
   "source": []
  },
  {
   "cell_type": "code",
   "execution_count": null,
   "metadata": {},
   "outputs": [],
   "source": []
  },
  {
   "cell_type": "code",
   "execution_count": null,
   "metadata": {},
   "outputs": [],
   "source": []
  },
  {
   "cell_type": "code",
   "execution_count": null,
   "metadata": {},
   "outputs": [],
   "source": []
  }
 ],
 "metadata": {
  "kernelspec": {
   "display_name": "Python 3",
   "language": "python",
   "name": "python3"
  },
  "language_info": {
   "codemirror_mode": {
    "name": "ipython",
    "version": 3
   },
   "file_extension": ".py",
   "mimetype": "text/x-python",
   "name": "python",
   "nbconvert_exporter": "python",
   "pygments_lexer": "ipython3",
   "version": "3.7.6"
  }
 },
 "nbformat": 4,
 "nbformat_minor": 4
}
